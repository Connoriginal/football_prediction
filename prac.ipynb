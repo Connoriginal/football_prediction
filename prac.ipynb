{
 "cells": [
  {
   "cell_type": "markdown",
   "id": "7b163ef6",
   "metadata": {},
   "source": [
    "## Import modules"
   ]
  },
  {
   "cell_type": "code",
   "execution_count": 2,
   "id": "33b19d11",
   "metadata": {},
   "outputs": [],
   "source": [
    "import torch\n",
    "import numpy as np\n",
    "import matplotlib.pyplot as plt\n",
    "import matplotlib.gridspec as gridspec\n",
    "import seaborn as sns \n",
    "import pandas as pd\n",
    "import sqlite3\n",
    "import scipy.stats as scipy\n",
    "\n",
    "from sklearn.metrics import accuracy_score\n",
    "\n",
    "from numpy import random\n",
    "from IPython.display import display\n"
   ]
  },
  {
   "cell_type": "markdown",
   "id": "6a0f8992",
   "metadata": {},
   "source": [
    "### Connect to sqlite database"
   ]
  },
  {
   "cell_type": "code",
   "execution_count": 3,
   "id": "1daf5647",
   "metadata": {},
   "outputs": [],
   "source": [
    "with sqlite3.connect('./data/database.sqlite') as con :\n",
    "    countries = pd.read_sql_query(\"SELECT * from Country\",con)\n",
    "    leagues = pd.read_sql_query(\"SELECT * from League\",con)\n",
    "    matches = pd.read_sql_query(\"SELECT * from Match\",con)\n",
    "    players = pd.read_sql_query(\"SELECT * from Player\",con)\n",
    "    players_attributes = pd.read_sql_query(\"SELECT * from Player_Attributes\",con)\n",
    "    teams = pd.read_sql_query(\"SELECT * from Team\",con)\n",
    "    teams_attributes = pd.read_sql_query(\"SELECT * from Team_Attributes\",con)"
   ]
  },
  {
   "cell_type": "code",
   "execution_count": 9,
   "id": "074d5960",
   "metadata": {},
   "outputs": [
    {
     "name": "stdout",
     "output_type": "stream",
     "text": [
      "['id' 'name']\n",
      "['id' 'country_id' 'name']\n",
      "['id' 'country_id' 'league_id' 'season' 'stage' 'date' 'match_api_id'\n",
      " 'home_team_api_id' 'away_team_api_id' 'home_team_goal' 'away_team_goal'\n",
      " 'home_player_X1' 'home_player_X2' 'home_player_X3' 'home_player_X4'\n",
      " 'home_player_X5' 'home_player_X6' 'home_player_X7' 'home_player_X8'\n",
      " 'home_player_X9' 'home_player_X10' 'home_player_X11' 'away_player_X1'\n",
      " 'away_player_X2' 'away_player_X3' 'away_player_X4' 'away_player_X5'\n",
      " 'away_player_X6' 'away_player_X7' 'away_player_X8' 'away_player_X9'\n",
      " 'away_player_X10' 'away_player_X11' 'home_player_Y1' 'home_player_Y2'\n",
      " 'home_player_Y3' 'home_player_Y4' 'home_player_Y5' 'home_player_Y6'\n",
      " 'home_player_Y7' 'home_player_Y8' 'home_player_Y9' 'home_player_Y10'\n",
      " 'home_player_Y11' 'away_player_Y1' 'away_player_Y2' 'away_player_Y3'\n",
      " 'away_player_Y4' 'away_player_Y5' 'away_player_Y6' 'away_player_Y7'\n",
      " 'away_player_Y8' 'away_player_Y9' 'away_player_Y10' 'away_player_Y11'\n",
      " 'home_player_1' 'home_player_2' 'home_player_3' 'home_player_4'\n",
      " 'home_player_5' 'home_player_6' 'home_player_7' 'home_player_8'\n",
      " 'home_player_9' 'home_player_10' 'home_player_11' 'away_player_1'\n",
      " 'away_player_2' 'away_player_3' 'away_player_4' 'away_player_5'\n",
      " 'away_player_6' 'away_player_7' 'away_player_8' 'away_player_9'\n",
      " 'away_player_10' 'away_player_11' 'goal' 'shoton' 'shotoff' 'foulcommit'\n",
      " 'card' 'cross' 'corner' 'possession' 'B365H' 'B365D' 'B365A' 'BWH' 'BWD'\n",
      " 'BWA' 'IWH' 'IWD' 'IWA' 'LBH' 'LBD' 'LBA' 'PSH' 'PSD' 'PSA' 'WHH' 'WHD'\n",
      " 'WHA' 'SJH' 'SJD' 'SJA' 'VCH' 'VCD' 'VCA' 'GBH' 'GBD' 'GBA' 'BSH' 'BSD'\n",
      " 'BSA']\n",
      "['id' 'player_api_id' 'player_name' 'player_fifa_api_id' 'birthday'\n",
      " 'height' 'weight']\n",
      "['id' 'player_fifa_api_id' 'player_api_id' 'date' 'overall_rating'\n",
      " 'potential' 'preferred_foot' 'attacking_work_rate' 'defensive_work_rate'\n",
      " 'crossing' 'finishing' 'heading_accuracy' 'short_passing' 'volleys'\n",
      " 'dribbling' 'curve' 'free_kick_accuracy' 'long_passing' 'ball_control'\n",
      " 'acceleration' 'sprint_speed' 'agility' 'reactions' 'balance'\n",
      " 'shot_power' 'jumping' 'stamina' 'strength' 'long_shots' 'aggression'\n",
      " 'interceptions' 'positioning' 'vision' 'penalties' 'marking'\n",
      " 'standing_tackle' 'sliding_tackle' 'gk_diving' 'gk_handling' 'gk_kicking'\n",
      " 'gk_positioning' 'gk_reflexes']\n",
      "['id' 'team_api_id' 'team_fifa_api_id' 'team_long_name' 'team_short_name']\n",
      "['id' 'team_fifa_api_id' 'team_api_id' 'date' 'buildUpPlaySpeed'\n",
      " 'buildUpPlaySpeedClass' 'buildUpPlayDribbling'\n",
      " 'buildUpPlayDribblingClass' 'buildUpPlayPassing'\n",
      " 'buildUpPlayPassingClass' 'buildUpPlayPositioningClass'\n",
      " 'chanceCreationPassing' 'chanceCreationPassingClass'\n",
      " 'chanceCreationCrossing' 'chanceCreationCrossingClass'\n",
      " 'chanceCreationShooting' 'chanceCreationShootingClass'\n",
      " 'chanceCreationPositioningClass' 'defencePressure' 'defencePressureClass'\n",
      " 'defenceAggression' 'defenceAggressionClass' 'defenceTeamWidth'\n",
      " 'defenceTeamWidthClass' 'defenceDefenderLineClass']\n"
     ]
    }
   ],
   "source": [
    "print(countries.columns.values)\n",
    "print(leagues.columns.values)\n",
    "print(matches.columns.values)\n",
    "print(players.columns.values)\n",
    "print(players_attributes.columns.values)\n",
    "print(teams.columns.values)\n",
    "print(teams_attributes.columns.values)"
   ]
  },
  {
   "cell_type": "code",
   "execution_count": 11,
   "id": "c289d272",
   "metadata": {},
   "outputs": [],
   "source": [
    "data1 = pd.read_csv(\"./data/EPL/19_20.csv\")"
   ]
  },
  {
   "cell_type": "code",
   "execution_count": 12,
   "id": "6afe34d8",
   "metadata": {},
   "outputs": [
    {
     "data": {
      "text/plain": [
       "array(['Div', 'Date', 'Time', 'HomeTeam', 'AwayTeam', 'FTHG', 'FTAG',\n",
       "       'FTR', 'HTHG', 'HTAG', 'HTR', 'Referee', 'HS', 'AS', 'HST', 'AST',\n",
       "       'HF', 'AF', 'HC', 'AC', 'HY', 'AY', 'HR', 'AR', 'B365H', 'B365D',\n",
       "       'B365A', 'BWH', 'BWD', 'BWA', 'IWH', 'IWD', 'IWA', 'PSH', 'PSD',\n",
       "       'PSA', 'WHH', 'WHD', 'WHA', 'VCH', 'VCD', 'VCA', 'MaxH', 'MaxD',\n",
       "       'MaxA', 'AvgH', 'AvgD', 'AvgA', 'B365>2.5', 'B365<2.5', 'P>2.5',\n",
       "       'P<2.5', 'Max>2.5', 'Max<2.5', 'Avg>2.5', 'Avg<2.5', 'AHh',\n",
       "       'B365AHH', 'B365AHA', 'PAHH', 'PAHA', 'MaxAHH', 'MaxAHA', 'AvgAHH',\n",
       "       'AvgAHA', 'B365CH', 'B365CD', 'B365CA', 'BWCH', 'BWCD', 'BWCA',\n",
       "       'IWCH', 'IWCD', 'IWCA', 'PSCH', 'PSCD', 'PSCA', 'WHCH', 'WHCD',\n",
       "       'WHCA', 'VCCH', 'VCCD', 'VCCA', 'MaxCH', 'MaxCD', 'MaxCA', 'AvgCH',\n",
       "       'AvgCD', 'AvgCA', 'B365C>2.5', 'B365C<2.5', 'PC>2.5', 'PC<2.5',\n",
       "       'MaxC>2.5', 'MaxC<2.5', 'AvgC>2.5', 'AvgC<2.5', 'AHCh', 'B365CAHH',\n",
       "       'B365CAHA', 'PCAHH', 'PCAHA', 'MaxCAHH', 'MaxCAHA', 'AvgCAHH',\n",
       "       'AvgCAHA'], dtype=object)"
      ]
     },
     "execution_count": 12,
     "metadata": {},
     "output_type": "execute_result"
    }
   ],
   "source": [
    "data1.columns.values"
   ]
  },
  {
   "cell_type": "code",
   "execution_count": 34,
   "id": "6067d0de",
   "metadata": {},
   "outputs": [],
   "source": [
    "col = [\"Div\",\"Date\",\"HomeTeam\",\"AwayTeam\",\"FTHG\",\"FTAG\",\"FTR\",\"B365H\",\"B365D\",\n",
    "      \"B365A\",\"BWH\",\"BWD\",\"BWA\",\"IWH\",\"IWD\",\"IWA\",\"PSH\",\"PSD\",\"PSA\",\"WHH\",\"WHD\",\"WHA\",\n",
    "      \"VCH\",\"VCD\",\"VCA\"]\n",
    "\n",
    "data = data1[col]"
   ]
  },
  {
   "cell_type": "code",
   "execution_count": 35,
   "id": "e3438866",
   "metadata": {},
   "outputs": [
    {
     "data": {
      "text/plain": [
       "(380, 25)"
      ]
     },
     "execution_count": 35,
     "metadata": {},
     "output_type": "execute_result"
    }
   ],
   "source": [
    "data.shape"
   ]
  },
  {
   "cell_type": "code",
   "execution_count": 36,
   "id": "ac344eb7",
   "metadata": {},
   "outputs": [
    {
     "name": "stdout",
     "output_type": "stream",
     "text": [
      "['Div' 'Date' 'HomeTeam' 'AwayTeam' 'FTHG' 'FTAG' 'FTR' 'B365H' 'B365D'\n",
      " 'B365A' 'BWH' 'BWD' 'BWA' 'IWH' 'IWD' 'IWA' 'PSH' 'PSD' 'PSA' 'WHH' 'WHD'\n",
      " 'WHA' 'VCH' 'VCD' 'VCA']\n"
     ]
    }
   ],
   "source": [
    "data2 = pd.read_csv(\"./data/EPL/18_19.csv\")\n",
    "data2 = data2[col]\n",
    "print(data2.columns.values)"
   ]
  },
  {
   "cell_type": "code",
   "execution_count": 37,
   "id": "121530c4",
   "metadata": {},
   "outputs": [
    {
     "data": {
      "text/plain": [
       "0      E0\n",
       "1      E0\n",
       "2      E0\n",
       "3      E0\n",
       "4      E0\n",
       "       ..\n",
       "375    E0\n",
       "376    E0\n",
       "377    E0\n",
       "378    E0\n",
       "379    E0\n",
       "Name: Div, Length: 380, dtype: object"
      ]
     },
     "execution_count": 37,
     "metadata": {},
     "output_type": "execute_result"
    }
   ],
   "source": [
    "data2[\"Div\"]"
   ]
  },
  {
   "cell_type": "code",
   "execution_count": 38,
   "id": "34ea3c13",
   "metadata": {},
   "outputs": [
    {
     "data": {
      "text/plain": [
       "array([  0,   1,   1,   1,   1,   1,   1,   2,   2,   2,   3,   3,   3,\n",
       "         3,   3,   3,   4,   4,   4,   5,   6,   6,   6,   6,   6,   6,\n",
       "         7,   7,   7,   8,   9,   9,   9,   9,   9,   9,   9,  10,  10,\n",
       "        10,  11,  11,  11,  11,  11,  11,  11,  12,  12,  13,  14,  14,\n",
       "        14,  14,  14,  14,  14,  14,  15,  15,  16,  16,  16,  16,  16,\n",
       "        16,  16,  16,  17,  18,  19,  20,  20,  20,  20,  20,  20,  21,\n",
       "        21,  21,  22,  22,  22,  22,  22,  22,  22,  22,  23,  24,  25,\n",
       "        25,  25,  25,  25,  25,  26,  26,  26,  27,  28,  28,  28,  28,\n",
       "        28,  28,  28,  29,  29,  30,  31,  31,  31,  31,  31,  31,  32,\n",
       "        32,  32,  32,  33,  33,  33,  33,  33,  33,  33,  34,  34,  35,\n",
       "        36,  37,  37,  37,  37,  37,  37,  38,  38,  38,  39,  39,  39,\n",
       "        39,  40,  40,  40,  40,  40,  40,  41,  41,  41,  41,  41,  41,\n",
       "        41,  41,  42,  43,  44,  44,  44,  44,  44,  44,  44,  45,  45,\n",
       "        45,  46,  47,  47,  47,  47,  47,  47,  47,  47,  48,  49,  49,\n",
       "        49,  49,  49,  49,  49,  49,  49,  50,  51,  51,  51,  51,  51,\n",
       "        51,  52,  52,  52,  52,  53,  53,  53,  54,  54,  54,  54,  54,\n",
       "        54,  55,  56,  56,  56,  56,  56,  56,  56,  57,  57,  58,  59,\n",
       "        59,  59,  59,  59,  59,  59,  59,  60,  60,  61,  61,  61,  61,\n",
       "        61,  61,  62,  62,  62,  62,  63,  63,  63,  63,  63,  63,  63,\n",
       "        64,  64,  65,  66,  67,  67,  67,  67,  67,  67,  67,  68,  68,\n",
       "        69,  70,  70,  71,  71,  71,  71,  72,  72,  73,  73,  73,  73,\n",
       "        74,  74,  74,  74,  74,  74,  75,  75,  75,  75,  75,  75,  75,\n",
       "        76,  76,  76,  77,  77,  77,  77,  77,  77,  77,  78,  78,  78,\n",
       "        79,  79,  79,  80,  80,  81,  81,  81,  81,  81,  81,  81,  82,\n",
       "        82,  83,  84,  84,  85,  85,  85,  86,  87,  87,  87,  88,  89,\n",
       "        90,  91,  91,  91,  91,  91,  91,  92,  92,  93,  94,  95,  95,\n",
       "        95,  95,  95,  95,  96,  96,  96,  97,  98,  98,  99,  99, 100,\n",
       "       101, 101, 101, 101, 101, 101, 102, 102, 102, 103, 104, 104, 104,\n",
       "       104, 104, 105, 105, 105, 106, 107, 107, 107, 107, 107, 107, 107,\n",
       "       107, 107, 107])"
      ]
     },
     "execution_count": 38,
     "metadata": {},
     "output_type": "execute_result"
    }
   ],
   "source": [
    "data2[\"Date\"].factorize()[0] # 0 : codes, 1 : uniques"
   ]
  },
  {
   "cell_type": "code",
   "execution_count": 65,
   "id": "2d9fed31",
   "metadata": {},
   "outputs": [],
   "source": [
    "codes, uniques = data2[\"HomeTeam\"].factorize()"
   ]
  },
  {
   "cell_type": "code",
   "execution_count": 69,
   "id": "1ce3a9e7",
   "metadata": {},
   "outputs": [
    {
     "name": "stdout",
     "output_type": "stream",
     "text": [
      "Index(['Man United', 'Bournemouth', 'Fulham', 'Huddersfield', 'Newcastle',\n",
      "       'Watford', 'Wolves', 'Arsenal', 'Liverpool', 'Southampton', 'Cardiff',\n",
      "       'Chelsea', 'Everton', 'Leicester', 'Tottenham', 'West Ham', 'Brighton',\n",
      "       'Burnley', 'Man City', 'Crystal Palace'],\n",
      "      dtype='object')\n"
     ]
    }
   ],
   "source": [
    "print(uniques)"
   ]
  },
  {
   "cell_type": "code",
   "execution_count": 68,
   "id": "1197d5f6",
   "metadata": {},
   "outputs": [
    {
     "name": "stdout",
     "output_type": "stream",
     "text": [
      "{'Man United': 0, 'Bournemouth': 1, 'Fulham': 2, 'Huddersfield': 3, 'Newcastle': 4, 'Watford': 5, 'Wolves': 6, 'Arsenal': 7, 'Liverpool': 8, 'Southampton': 9, 'Cardiff': 10, 'Chelsea': 11, 'Everton': 12, 'Leicester': 13, 'Tottenham': 14, 'West Ham': 15, 'Brighton': 16, 'Burnley': 17, 'Man City': 18, 'Crystal Palace': 19}\n"
     ]
    }
   ],
   "source": [
    "dic = {}\n",
    "for i in range(len(uniques)):\n",
    "    dic[uniques[i]] = codes[i]\n",
    "print(dic)"
   ]
  },
  {
   "cell_type": "code",
   "execution_count": 39,
   "id": "6ac9bc20",
   "metadata": {},
   "outputs": [],
   "source": [
    "v = data2[\"Date\"]"
   ]
  },
  {
   "cell_type": "code",
   "execution_count": 54,
   "id": "c46c8b2f",
   "metadata": {},
   "outputs": [
    {
     "data": {
      "text/plain": [
       "'10/08/2018'"
      ]
     },
     "execution_count": 54,
     "metadata": {},
     "output_type": "execute_result"
    }
   ],
   "source": [
    "v[0]\n"
   ]
  },
  {
   "cell_type": "code",
   "execution_count": 57,
   "id": "4addb71f",
   "metadata": {},
   "outputs": [],
   "source": [
    "from datetime import datetime"
   ]
  },
  {
   "cell_type": "code",
   "execution_count": 63,
   "id": "a17b19cd",
   "metadata": {},
   "outputs": [],
   "source": [
    "dt = datetime.strptime(v[0],\"%d/%m/%Y\")"
   ]
  },
  {
   "cell_type": "code",
   "execution_count": 64,
   "id": "05d013ae",
   "metadata": {},
   "outputs": [
    {
     "data": {
      "text/plain": [
       "datetime.datetime(2018, 8, 10, 0, 0)"
      ]
     },
     "execution_count": 64,
     "metadata": {},
     "output_type": "execute_result"
    }
   ],
   "source": [
    "dt"
   ]
  },
  {
   "cell_type": "code",
   "execution_count": null,
   "id": "0b7cbdc5",
   "metadata": {},
   "outputs": [],
   "source": []
  }
 ],
 "metadata": {
  "kernelspec": {
   "display_name": "Python 3",
   "language": "python",
   "name": "python3"
  },
  "language_info": {
   "codemirror_mode": {
    "name": "ipython",
    "version": 3
   },
   "file_extension": ".py",
   "mimetype": "text/x-python",
   "name": "python",
   "nbconvert_exporter": "python",
   "pygments_lexer": "ipython3",
   "version": "3.9.6"
  }
 },
 "nbformat": 4,
 "nbformat_minor": 5
}
