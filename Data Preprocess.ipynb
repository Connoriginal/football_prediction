{
 "cells": [
  {
   "cell_type": "code",
   "execution_count": 1,
   "id": "ebb55ceb",
   "metadata": {},
   "outputs": [],
   "source": [
    "import os\n",
    "import numpy as np\n",
    "import pandas as pd\n",
    "\n",
    "from torch.utils.data import random_split\n",
    "from sklearn.preprocessing import LabelEncoder\n",
    "import torch\n",
    "from torch.utils.data import Dataset"
   ]
  },
  {
   "cell_type": "markdown",
   "id": "6c4386eb",
   "metadata": {},
   "source": [
    "## Original CSV file into merged CSV file"
   ]
  },
  {
   "cell_type": "code",
   "execution_count": 2,
   "id": "6dc92bf4",
   "metadata": {},
   "outputs": [
    {
     "name": "stdout",
     "output_type": "stream",
     "text": [
      "21/22 season ok\n",
      "20/21 season ok\n",
      "19/20 season ok\n",
      "18/19 season ok\n",
      "17/18 season ok\n",
      "16/17 season ok\n",
      "15/16 season ok\n",
      "14/15 season ok\n",
      "13/14 season ok\n",
      "12/13 season ok\n"
     ]
    }
   ],
   "source": [
    "data = []\n",
    "col = [\"Date\",\"HomeTeam\",\"AwayTeam\",\"FTR\",\"B365H\",\"B365D\",\n",
    "      \"B365A\",\"BWH\",\"BWD\",\"BWA\",\"IWH\",\"IWD\",\"IWA\",\"PSH\",\"PSD\",\"PSA\",\"WHH\",\"WHD\",\"WHA\",\n",
    "      \"VCH\",\"VCD\",\"VCA\"]\n",
    "for i in range(21,11,-1):\n",
    "    temp = pd.read_csv(f\"./data/EPL/{i}_{i+1}.csv\")\n",
    "    temp = temp[col]\n",
    "    temp[\"Season1\"] = i\n",
    "    temp[\"Season2\"] = i+1\n",
    "    print(f\"{i}/{i+1} season ok\")\n",
    "    data.append(temp)"
   ]
  },
  {
   "cell_type": "code",
   "execution_count": 3,
   "id": "b1d2766e",
   "metadata": {},
   "outputs": [
    {
     "name": "stdout",
     "output_type": "stream",
     "text": [
      "data length : 10\n",
      "data[0].shape = (110, 24)\n",
      "data[1].shape = (380, 24)\n",
      "data[2].shape = (380, 24)\n",
      "data[3].shape = (380, 24)\n",
      "data[4].shape = (380, 24)\n",
      "data[5].shape = (380, 24)\n",
      "data[6].shape = (380, 24)\n",
      "data[7].shape = (381, 24)\n",
      "data[8].shape = (380, 24)\n",
      "data[9].shape = (380, 24)\n"
     ]
    }
   ],
   "source": [
    "print(\"data length : \" + str(len(data)))\n",
    "for i in range(len(data)) :\n",
    "    print(f\"data[{i}].shape = {data[i].shape}\")"
   ]
  },
  {
   "cell_type": "code",
   "execution_count": 4,
   "id": "106031eb",
   "metadata": {},
   "outputs": [
    {
     "name": "stdout",
     "output_type": "stream",
     "text": [
      "total shape = (3531, 24)\n",
      "total after dropna shape = (3528, 24)\n"
     ]
    }
   ],
   "source": [
    "total = pd.concat(data)\n",
    "print(f\"total shape = {total.shape}\")\n",
    "total = total.dropna()\n",
    "print(f\"total after dropna shape = {total.shape}\")\n",
    "total = total.reset_index(drop=True)"
   ]
  },
  {
   "cell_type": "code",
   "execution_count": 5,
   "id": "e6d9d498",
   "metadata": {},
   "outputs": [
    {
     "data": {
      "text/plain": [
       "array(['Date', 'HomeTeam', 'AwayTeam', 'FTR', 'B365H', 'B365D', 'B365A',\n",
       "       'BWH', 'BWD', 'BWA', 'IWH', 'IWD', 'IWA', 'PSH', 'PSD', 'PSA',\n",
       "       'WHH', 'WHD', 'WHA', 'VCH', 'VCD', 'VCA', 'Season1', 'Season2'],\n",
       "      dtype=object)"
      ]
     },
     "execution_count": 5,
     "metadata": {},
     "output_type": "execute_result"
    }
   ],
   "source": [
    "total.columns.values"
   ]
  },
  {
   "cell_type": "code",
   "execution_count": 6,
   "id": "c7ccfd0e",
   "metadata": {},
   "outputs": [],
   "source": [
    "team_name = total[\"HomeTeam\"].unique()"
   ]
  },
  {
   "cell_type": "markdown",
   "id": "dbd6b4b5",
   "metadata": {},
   "source": [
    "## encode string data to numeric data"
   ]
  },
  {
   "cell_type": "code",
   "execution_count": 7,
   "id": "9fcf0658",
   "metadata": {},
   "outputs": [],
   "source": [
    "from sklearn.preprocessing import LabelEncoder\n",
    "\n",
    "le = LabelEncoder()"
   ]
  },
  {
   "cell_type": "code",
   "execution_count": 8,
   "id": "2726f63e",
   "metadata": {},
   "outputs": [
    {
     "name": "stdout",
     "output_type": "stream",
     "text": [
      "team name : ['Brentford' 'Man United' 'Burnley' 'Chelsea' 'Everton' 'Leicester'\n",
      " 'Watford' 'Norwich' 'Newcastle' 'Tottenham' 'Liverpool' 'Aston Villa'\n",
      " 'Crystal Palace' 'Leeds' 'Man City' 'Brighton' 'Southampton' 'Wolves'\n",
      " 'Arsenal' 'West Ham' 'Fulham' 'West Brom' 'Sheffield United'\n",
      " 'Bournemouth' 'Huddersfield' 'Cardiff' 'Stoke' 'Swansea' 'Hull'\n",
      " 'Middlesbrough' 'Sunderland' 'QPR' 'Reading' 'Wigan']\n",
      "team_label : [ 3 17  5  7  9 14 29 20 19 28 15  1  8 13 16  4 24 33  0 31 10 30 23  2\n",
      " 11  6 25 27 12 18 26 21 22 32]\n"
     ]
    }
   ],
   "source": [
    "le.fit(team_name)\n",
    "team_label = le.transform(team_name)\n",
    "print(f\"team name : {team_name}\")\n",
    "print(f\"team_label : {team_label}\")"
   ]
  },
  {
   "cell_type": "code",
   "execution_count": 9,
   "id": "88eb6567",
   "metadata": {},
   "outputs": [],
   "source": [
    "dic = {}\n",
    "for i in range(len(team_label)) :\n",
    "    dic[team_name[i]] = team_label[i]"
   ]
  },
  {
   "cell_type": "code",
   "execution_count": 10,
   "id": "8ce7a69f",
   "metadata": {
    "scrolled": true
   },
   "outputs": [
    {
     "data": {
      "text/plain": [
       "{'Brentford': 3,\n",
       " 'Man United': 17,\n",
       " 'Burnley': 5,\n",
       " 'Chelsea': 7,\n",
       " 'Everton': 9,\n",
       " 'Leicester': 14,\n",
       " 'Watford': 29,\n",
       " 'Norwich': 20,\n",
       " 'Newcastle': 19,\n",
       " 'Tottenham': 28,\n",
       " 'Liverpool': 15,\n",
       " 'Aston Villa': 1,\n",
       " 'Crystal Palace': 8,\n",
       " 'Leeds': 13,\n",
       " 'Man City': 16,\n",
       " 'Brighton': 4,\n",
       " 'Southampton': 24,\n",
       " 'Wolves': 33,\n",
       " 'Arsenal': 0,\n",
       " 'West Ham': 31,\n",
       " 'Fulham': 10,\n",
       " 'West Brom': 30,\n",
       " 'Sheffield United': 23,\n",
       " 'Bournemouth': 2,\n",
       " 'Huddersfield': 11,\n",
       " 'Cardiff': 6,\n",
       " 'Stoke': 25,\n",
       " 'Swansea': 27,\n",
       " 'Hull': 12,\n",
       " 'Middlesbrough': 18,\n",
       " 'Sunderland': 26,\n",
       " 'QPR': 21,\n",
       " 'Reading': 22,\n",
       " 'Wigan': 32}"
      ]
     },
     "execution_count": 10,
     "metadata": {},
     "output_type": "execute_result"
    }
   ],
   "source": [
    "dic"
   ]
  },
  {
   "cell_type": "code",
   "execution_count": 11,
   "id": "1f3d949a",
   "metadata": {},
   "outputs": [
    {
     "data": {
      "text/plain": [
       "array([0, 0, 1, ..., 2, 0, 2])"
      ]
     },
     "execution_count": 11,
     "metadata": {},
     "output_type": "execute_result"
    }
   ],
   "source": [
    "total[\"FTR\"].factorize()[0]"
   ]
  },
  {
   "cell_type": "code",
   "execution_count": 12,
   "id": "fa4f908d",
   "metadata": {},
   "outputs": [],
   "source": [
    "total[\"labeled_FTR\"] = total[\"FTR\"].factorize()[0]"
   ]
  },
  {
   "cell_type": "code",
   "execution_count": 13,
   "id": "6ada5ecd",
   "metadata": {},
   "outputs": [],
   "source": [
    "labeled_HT = []\n",
    "for i in total[\"HomeTeam\"] :\n",
    "    labeled_HT.append(dic[i])"
   ]
  },
  {
   "cell_type": "code",
   "execution_count": 14,
   "id": "ebc1f54b",
   "metadata": {},
   "outputs": [],
   "source": [
    "labeled_AT = []\n",
    "for i in total[\"AwayTeam\"] :\n",
    "    labeled_AT.append(dic[i])"
   ]
  },
  {
   "cell_type": "code",
   "execution_count": 15,
   "id": "a5cb92a0",
   "metadata": {},
   "outputs": [],
   "source": [
    "total[\"labeled_HomeTeam\"] = labeled_HT\n",
    "total[\"labeled_AwayTeam\"] = labeled_AT"
   ]
  },
  {
   "cell_type": "code",
   "execution_count": 16,
   "id": "99f4e363",
   "metadata": {},
   "outputs": [
    {
     "data": {
      "text/plain": [
       "array(['Date', 'HomeTeam', 'AwayTeam', 'FTR', 'B365H', 'B365D', 'B365A',\n",
       "       'BWH', 'BWD', 'BWA', 'IWH', 'IWD', 'IWA', 'PSH', 'PSD', 'PSA',\n",
       "       'WHH', 'WHD', 'WHA', 'VCH', 'VCD', 'VCA', 'Season1', 'Season2',\n",
       "       'labeled_FTR', 'labeled_HomeTeam', 'labeled_AwayTeam'],\n",
       "      dtype=object)"
      ]
     },
     "execution_count": 16,
     "metadata": {},
     "output_type": "execute_result"
    }
   ],
   "source": [
    "total.columns.values"
   ]
  },
  {
   "cell_type": "code",
   "execution_count": 17,
   "id": "c5621a4c",
   "metadata": {},
   "outputs": [
    {
     "data": {
      "text/plain": [
       "0       13/08/2021\n",
       "1       14/08/2021\n",
       "2       14/08/2021\n",
       "3       14/08/2021\n",
       "4       14/08/2021\n",
       "           ...    \n",
       "3523      19/05/13\n",
       "3524      19/05/13\n",
       "3525      19/05/13\n",
       "3526      19/05/13\n",
       "3527      19/05/13\n",
       "Name: Date, Length: 3528, dtype: object"
      ]
     },
     "execution_count": 17,
     "metadata": {},
     "output_type": "execute_result"
    }
   ],
   "source": [
    "total[\"Date\"]"
   ]
  },
  {
   "cell_type": "code",
   "execution_count": 18,
   "id": "00af0e8b",
   "metadata": {},
   "outputs": [],
   "source": [
    "d = []\n",
    "m = []\n",
    "\n",
    "for t,i in enumerate(total[\"Date\"]) :\n",
    "    d.append(int(i[0:2]))\n",
    "    m.append(int(i[3:5]))"
   ]
  },
  {
   "cell_type": "code",
   "execution_count": 19,
   "id": "91c4c0d5",
   "metadata": {},
   "outputs": [],
   "source": [
    "total[\"Day\"] = d\n",
    "total[\"Month\"] = m"
   ]
  },
  {
   "cell_type": "code",
   "execution_count": 20,
   "id": "bb24e8bf",
   "metadata": {},
   "outputs": [
    {
     "data": {
      "text/html": [
       "<div>\n",
       "<style scoped>\n",
       "    .dataframe tbody tr th:only-of-type {\n",
       "        vertical-align: middle;\n",
       "    }\n",
       "\n",
       "    .dataframe tbody tr th {\n",
       "        vertical-align: top;\n",
       "    }\n",
       "\n",
       "    .dataframe thead th {\n",
       "        text-align: right;\n",
       "    }\n",
       "</style>\n",
       "<table border=\"1\" class=\"dataframe\">\n",
       "  <thead>\n",
       "    <tr style=\"text-align: right;\">\n",
       "      <th></th>\n",
       "      <th>Date</th>\n",
       "      <th>HomeTeam</th>\n",
       "      <th>AwayTeam</th>\n",
       "      <th>FTR</th>\n",
       "      <th>B365H</th>\n",
       "      <th>B365D</th>\n",
       "      <th>B365A</th>\n",
       "      <th>BWH</th>\n",
       "      <th>BWD</th>\n",
       "      <th>BWA</th>\n",
       "      <th>...</th>\n",
       "      <th>VCH</th>\n",
       "      <th>VCD</th>\n",
       "      <th>VCA</th>\n",
       "      <th>Season1</th>\n",
       "      <th>Season2</th>\n",
       "      <th>labeled_FTR</th>\n",
       "      <th>labeled_HomeTeam</th>\n",
       "      <th>labeled_AwayTeam</th>\n",
       "      <th>Day</th>\n",
       "      <th>Month</th>\n",
       "    </tr>\n",
       "  </thead>\n",
       "  <tbody>\n",
       "    <tr>\n",
       "      <th>0</th>\n",
       "      <td>13/08/2021</td>\n",
       "      <td>Brentford</td>\n",
       "      <td>Arsenal</td>\n",
       "      <td>H</td>\n",
       "      <td>4.00</td>\n",
       "      <td>3.40</td>\n",
       "      <td>1.95</td>\n",
       "      <td>4.00</td>\n",
       "      <td>3.50</td>\n",
       "      <td>1.95</td>\n",
       "      <td>...</td>\n",
       "      <td>4.10</td>\n",
       "      <td>3.40</td>\n",
       "      <td>2.00</td>\n",
       "      <td>21</td>\n",
       "      <td>22</td>\n",
       "      <td>0</td>\n",
       "      <td>3</td>\n",
       "      <td>0</td>\n",
       "      <td>13</td>\n",
       "      <td>8</td>\n",
       "    </tr>\n",
       "    <tr>\n",
       "      <th>1</th>\n",
       "      <td>14/08/2021</td>\n",
       "      <td>Man United</td>\n",
       "      <td>Leeds</td>\n",
       "      <td>H</td>\n",
       "      <td>1.53</td>\n",
       "      <td>4.50</td>\n",
       "      <td>5.75</td>\n",
       "      <td>1.53</td>\n",
       "      <td>4.50</td>\n",
       "      <td>5.75</td>\n",
       "      <td>...</td>\n",
       "      <td>1.55</td>\n",
       "      <td>4.40</td>\n",
       "      <td>6.00</td>\n",
       "      <td>21</td>\n",
       "      <td>22</td>\n",
       "      <td>0</td>\n",
       "      <td>17</td>\n",
       "      <td>13</td>\n",
       "      <td>14</td>\n",
       "      <td>8</td>\n",
       "    </tr>\n",
       "    <tr>\n",
       "      <th>2</th>\n",
       "      <td>14/08/2021</td>\n",
       "      <td>Burnley</td>\n",
       "      <td>Brighton</td>\n",
       "      <td>A</td>\n",
       "      <td>3.10</td>\n",
       "      <td>3.10</td>\n",
       "      <td>2.45</td>\n",
       "      <td>3.20</td>\n",
       "      <td>3.10</td>\n",
       "      <td>2.40</td>\n",
       "      <td>...</td>\n",
       "      <td>3.13</td>\n",
       "      <td>3.10</td>\n",
       "      <td>2.45</td>\n",
       "      <td>21</td>\n",
       "      <td>22</td>\n",
       "      <td>1</td>\n",
       "      <td>5</td>\n",
       "      <td>4</td>\n",
       "      <td>14</td>\n",
       "      <td>8</td>\n",
       "    </tr>\n",
       "    <tr>\n",
       "      <th>3</th>\n",
       "      <td>14/08/2021</td>\n",
       "      <td>Chelsea</td>\n",
       "      <td>Crystal Palace</td>\n",
       "      <td>H</td>\n",
       "      <td>1.25</td>\n",
       "      <td>5.75</td>\n",
       "      <td>13.00</td>\n",
       "      <td>1.28</td>\n",
       "      <td>5.75</td>\n",
       "      <td>10.50</td>\n",
       "      <td>...</td>\n",
       "      <td>1.25</td>\n",
       "      <td>5.75</td>\n",
       "      <td>13.00</td>\n",
       "      <td>21</td>\n",
       "      <td>22</td>\n",
       "      <td>0</td>\n",
       "      <td>7</td>\n",
       "      <td>8</td>\n",
       "      <td>14</td>\n",
       "      <td>8</td>\n",
       "    </tr>\n",
       "    <tr>\n",
       "      <th>4</th>\n",
       "      <td>14/08/2021</td>\n",
       "      <td>Everton</td>\n",
       "      <td>Southampton</td>\n",
       "      <td>H</td>\n",
       "      <td>1.90</td>\n",
       "      <td>3.50</td>\n",
       "      <td>4.00</td>\n",
       "      <td>1.95</td>\n",
       "      <td>3.50</td>\n",
       "      <td>3.90</td>\n",
       "      <td>...</td>\n",
       "      <td>1.95</td>\n",
       "      <td>3.40</td>\n",
       "      <td>4.10</td>\n",
       "      <td>21</td>\n",
       "      <td>22</td>\n",
       "      <td>0</td>\n",
       "      <td>9</td>\n",
       "      <td>24</td>\n",
       "      <td>14</td>\n",
       "      <td>8</td>\n",
       "    </tr>\n",
       "    <tr>\n",
       "      <th>...</th>\n",
       "      <td>...</td>\n",
       "      <td>...</td>\n",
       "      <td>...</td>\n",
       "      <td>...</td>\n",
       "      <td>...</td>\n",
       "      <td>...</td>\n",
       "      <td>...</td>\n",
       "      <td>...</td>\n",
       "      <td>...</td>\n",
       "      <td>...</td>\n",
       "      <td>...</td>\n",
       "      <td>...</td>\n",
       "      <td>...</td>\n",
       "      <td>...</td>\n",
       "      <td>...</td>\n",
       "      <td>...</td>\n",
       "      <td>...</td>\n",
       "      <td>...</td>\n",
       "      <td>...</td>\n",
       "      <td>...</td>\n",
       "      <td>...</td>\n",
       "    </tr>\n",
       "    <tr>\n",
       "      <th>3523</th>\n",
       "      <td>19/05/13</td>\n",
       "      <td>Swansea</td>\n",
       "      <td>Fulham</td>\n",
       "      <td>A</td>\n",
       "      <td>1.80</td>\n",
       "      <td>3.80</td>\n",
       "      <td>4.75</td>\n",
       "      <td>1.72</td>\n",
       "      <td>3.75</td>\n",
       "      <td>4.50</td>\n",
       "      <td>...</td>\n",
       "      <td>1.83</td>\n",
       "      <td>3.80</td>\n",
       "      <td>4.60</td>\n",
       "      <td>12</td>\n",
       "      <td>13</td>\n",
       "      <td>1</td>\n",
       "      <td>27</td>\n",
       "      <td>10</td>\n",
       "      <td>19</td>\n",
       "      <td>5</td>\n",
       "    </tr>\n",
       "    <tr>\n",
       "      <th>3524</th>\n",
       "      <td>19/05/13</td>\n",
       "      <td>Tottenham</td>\n",
       "      <td>Sunderland</td>\n",
       "      <td>H</td>\n",
       "      <td>1.29</td>\n",
       "      <td>6.00</td>\n",
       "      <td>12.00</td>\n",
       "      <td>1.22</td>\n",
       "      <td>6.00</td>\n",
       "      <td>12.00</td>\n",
       "      <td>...</td>\n",
       "      <td>1.30</td>\n",
       "      <td>6.00</td>\n",
       "      <td>11.50</td>\n",
       "      <td>12</td>\n",
       "      <td>13</td>\n",
       "      <td>0</td>\n",
       "      <td>28</td>\n",
       "      <td>26</td>\n",
       "      <td>19</td>\n",
       "      <td>5</td>\n",
       "    </tr>\n",
       "    <tr>\n",
       "      <th>3525</th>\n",
       "      <td>19/05/13</td>\n",
       "      <td>West Brom</td>\n",
       "      <td>Man United</td>\n",
       "      <td>D</td>\n",
       "      <td>4.50</td>\n",
       "      <td>3.90</td>\n",
       "      <td>1.83</td>\n",
       "      <td>4.50</td>\n",
       "      <td>3.60</td>\n",
       "      <td>1.75</td>\n",
       "      <td>...</td>\n",
       "      <td>4.20</td>\n",
       "      <td>3.90</td>\n",
       "      <td>1.85</td>\n",
       "      <td>12</td>\n",
       "      <td>13</td>\n",
       "      <td>2</td>\n",
       "      <td>30</td>\n",
       "      <td>17</td>\n",
       "      <td>19</td>\n",
       "      <td>5</td>\n",
       "    </tr>\n",
       "    <tr>\n",
       "      <th>3526</th>\n",
       "      <td>19/05/13</td>\n",
       "      <td>West Ham</td>\n",
       "      <td>Reading</td>\n",
       "      <td>H</td>\n",
       "      <td>1.67</td>\n",
       "      <td>4.00</td>\n",
       "      <td>5.75</td>\n",
       "      <td>1.60</td>\n",
       "      <td>3.80</td>\n",
       "      <td>5.50</td>\n",
       "      <td>...</td>\n",
       "      <td>1.70</td>\n",
       "      <td>4.00</td>\n",
       "      <td>5.00</td>\n",
       "      <td>12</td>\n",
       "      <td>13</td>\n",
       "      <td>0</td>\n",
       "      <td>31</td>\n",
       "      <td>22</td>\n",
       "      <td>19</td>\n",
       "      <td>5</td>\n",
       "    </tr>\n",
       "    <tr>\n",
       "      <th>3527</th>\n",
       "      <td>19/05/13</td>\n",
       "      <td>Wigan</td>\n",
       "      <td>Aston Villa</td>\n",
       "      <td>D</td>\n",
       "      <td>2.15</td>\n",
       "      <td>3.60</td>\n",
       "      <td>3.60</td>\n",
       "      <td>2.00</td>\n",
       "      <td>3.50</td>\n",
       "      <td>3.50</td>\n",
       "      <td>...</td>\n",
       "      <td>2.15</td>\n",
       "      <td>3.60</td>\n",
       "      <td>3.50</td>\n",
       "      <td>12</td>\n",
       "      <td>13</td>\n",
       "      <td>2</td>\n",
       "      <td>32</td>\n",
       "      <td>1</td>\n",
       "      <td>19</td>\n",
       "      <td>5</td>\n",
       "    </tr>\n",
       "  </tbody>\n",
       "</table>\n",
       "<p>3528 rows × 29 columns</p>\n",
       "</div>"
      ],
      "text/plain": [
       "            Date    HomeTeam        AwayTeam FTR  B365H  B365D  B365A   BWH  \\\n",
       "0     13/08/2021   Brentford         Arsenal   H   4.00   3.40   1.95  4.00   \n",
       "1     14/08/2021  Man United           Leeds   H   1.53   4.50   5.75  1.53   \n",
       "2     14/08/2021     Burnley        Brighton   A   3.10   3.10   2.45  3.20   \n",
       "3     14/08/2021     Chelsea  Crystal Palace   H   1.25   5.75  13.00  1.28   \n",
       "4     14/08/2021     Everton     Southampton   H   1.90   3.50   4.00  1.95   \n",
       "...          ...         ...             ...  ..    ...    ...    ...   ...   \n",
       "3523    19/05/13     Swansea          Fulham   A   1.80   3.80   4.75  1.72   \n",
       "3524    19/05/13   Tottenham      Sunderland   H   1.29   6.00  12.00  1.22   \n",
       "3525    19/05/13   West Brom      Man United   D   4.50   3.90   1.83  4.50   \n",
       "3526    19/05/13    West Ham         Reading   H   1.67   4.00   5.75  1.60   \n",
       "3527    19/05/13       Wigan     Aston Villa   D   2.15   3.60   3.60  2.00   \n",
       "\n",
       "       BWD    BWA  ...   VCH   VCD    VCA  Season1  Season2  labeled_FTR  \\\n",
       "0     3.50   1.95  ...  4.10  3.40   2.00       21       22            0   \n",
       "1     4.50   5.75  ...  1.55  4.40   6.00       21       22            0   \n",
       "2     3.10   2.40  ...  3.13  3.10   2.45       21       22            1   \n",
       "3     5.75  10.50  ...  1.25  5.75  13.00       21       22            0   \n",
       "4     3.50   3.90  ...  1.95  3.40   4.10       21       22            0   \n",
       "...    ...    ...  ...   ...   ...    ...      ...      ...          ...   \n",
       "3523  3.75   4.50  ...  1.83  3.80   4.60       12       13            1   \n",
       "3524  6.00  12.00  ...  1.30  6.00  11.50       12       13            0   \n",
       "3525  3.60   1.75  ...  4.20  3.90   1.85       12       13            2   \n",
       "3526  3.80   5.50  ...  1.70  4.00   5.00       12       13            0   \n",
       "3527  3.50   3.50  ...  2.15  3.60   3.50       12       13            2   \n",
       "\n",
       "      labeled_HomeTeam  labeled_AwayTeam  Day  Month  \n",
       "0                    3                 0   13      8  \n",
       "1                   17                13   14      8  \n",
       "2                    5                 4   14      8  \n",
       "3                    7                 8   14      8  \n",
       "4                    9                24   14      8  \n",
       "...                ...               ...  ...    ...  \n",
       "3523                27                10   19      5  \n",
       "3524                28                26   19      5  \n",
       "3525                30                17   19      5  \n",
       "3526                31                22   19      5  \n",
       "3527                32                 1   19      5  \n",
       "\n",
       "[3528 rows x 29 columns]"
      ]
     },
     "execution_count": 20,
     "metadata": {},
     "output_type": "execute_result"
    }
   ],
   "source": [
    "total"
   ]
  },
  {
   "cell_type": "markdown",
   "id": "fca41000",
   "metadata": {},
   "source": [
    "## Make useable csv file"
   ]
  },
  {
   "cell_type": "code",
   "execution_count": 21,
   "id": "5b6bdbbe",
   "metadata": {},
   "outputs": [],
   "source": [
    "if not os.path.isdir(\"./data/processed\") :\n",
    "    os.mkdir(\"./data/processed\")"
   ]
  },
  {
   "cell_type": "code",
   "execution_count": 22,
   "id": "581de674",
   "metadata": {},
   "outputs": [],
   "source": [
    "total = total[['Date', 'HomeTeam', 'AwayTeam', 'FTR', 'B365H', 'B365D', 'B365A',\n",
    "       'BWH', 'BWD', 'BWA', 'IWH', 'IWD', 'IWA', 'PSH', 'PSD', 'PSA',\n",
    "       'WHH', 'WHD', 'WHA', 'VCH', 'VCD', 'VCA', 'Season1', 'Season2', 'labeled_HomeTeam', \n",
    "       'labeled_AwayTeam', 'Day','Month','labeled_FTR']]"
   ]
  },
  {
   "cell_type": "code",
   "execution_count": 23,
   "id": "914a38b4",
   "metadata": {},
   "outputs": [],
   "source": [
    "total.to_csv(\"./data/processed/total.csv\")"
   ]
  },
  {
   "cell_type": "code",
   "execution_count": 24,
   "id": "eada941b",
   "metadata": {},
   "outputs": [
    {
     "data": {
      "text/plain": [
       "array(['Date', 'HomeTeam', 'AwayTeam', 'FTR', 'B365H', 'B365D', 'B365A',\n",
       "       'BWH', 'BWD', 'BWA', 'IWH', 'IWD', 'IWA', 'PSH', 'PSD', 'PSA',\n",
       "       'WHH', 'WHD', 'WHA', 'VCH', 'VCD', 'VCA', 'Season1', 'Season2',\n",
       "       'labeled_HomeTeam', 'labeled_AwayTeam', 'Day', 'Month',\n",
       "       'labeled_FTR'], dtype=object)"
      ]
     },
     "execution_count": 24,
     "metadata": {},
     "output_type": "execute_result"
    }
   ],
   "source": [
    "total.columns.values"
   ]
  },
  {
   "cell_type": "code",
   "execution_count": 75,
   "id": "7587880c",
   "metadata": {},
   "outputs": [],
   "source": [
    "# numeric_col = ['B365H', 'B365D', 'B365A',\n",
    "#        'BWH', 'BWD', 'BWA', 'IWH', 'IWD', 'IWA', 'PSH', 'PSD', 'PSA',\n",
    "#        'WHH', 'WHD', 'WHA', 'VCH', 'VCD', 'VCA', 'Season1', 'Season2', \n",
    "#        'labeled_HomeTeam', 'labeled_AwayTeam', 'Day','Month','labeled_FTR']\n",
    "numeric_col = ['labeled_HomeTeam', 'labeled_AwayTeam','Month','B365H', 'B365D', 'B365A',\n",
    "       'BWH', 'BWD', 'BWA', 'IWH', 'IWD', 'IWA', 'PSH', 'PSD', 'PSA',\n",
    "       'WHH', 'WHD', 'WHA', 'VCH', 'VCD', 'VCA', 'labeled_FTR']"
   ]
  },
  {
   "cell_type": "code",
   "execution_count": 76,
   "id": "ab9c7b49",
   "metadata": {},
   "outputs": [],
   "source": [
    "numeric_total = total[numeric_col]"
   ]
  },
  {
   "cell_type": "code",
   "execution_count": 77,
   "id": "3a501b13",
   "metadata": {},
   "outputs": [
    {
     "name": "stdout",
     "output_type": "stream",
     "text": [
      "(3528, 22)\n",
      "['labeled_HomeTeam' 'labeled_AwayTeam' 'Month' 'B365H' 'B365D' 'B365A'\n",
      " 'BWH' 'BWD' 'BWA' 'IWH' 'IWD' 'IWA' 'PSH' 'PSD' 'PSA' 'WHH' 'WHD' 'WHA'\n",
      " 'VCH' 'VCD' 'VCA' 'labeled_FTR']\n"
     ]
    }
   ],
   "source": [
    "numeric_total.to_csv(\"./data/processed/numeric_total.csv\")\n",
    "print(numeric_total.shape)\n",
    "print(numeric_total.columns.values)"
   ]
  },
  {
   "cell_type": "markdown",
   "id": "e132fcd6",
   "metadata": {},
   "source": [
    "## Make train & test data"
   ]
  },
  {
   "cell_type": "code",
   "execution_count": 78,
   "id": "f89ab693",
   "metadata": {},
   "outputs": [
    {
     "data": {
      "text/plain": [
       "(706, 22)"
      ]
     },
     "execution_count": 78,
     "metadata": {},
     "output_type": "execute_result"
    }
   ],
   "source": [
    "train_data = numeric_total.sample(frac=0.8)\n",
    "test_data = numeric_total.drop(train_data.index)\n",
    "\n",
    "test_data.shape"
   ]
  },
  {
   "cell_type": "code",
   "execution_count": 79,
   "id": "99bcd415",
   "metadata": {},
   "outputs": [],
   "source": [
    "train_data.to_csv(\"./data/processed/numeric_train.csv\")\n",
    "test_data.to_csv(\"./data/processed/numeric_test.csv\")"
   ]
  },
  {
   "cell_type": "code",
   "execution_count": 80,
   "id": "19395b43",
   "metadata": {},
   "outputs": [
    {
     "data": {
      "text/plain": [
       "(2822, 22)"
      ]
     },
     "execution_count": 80,
     "metadata": {},
     "output_type": "execute_result"
    }
   ],
   "source": [
    "train_data.iloc[0,:-1]\n",
    "train_data.shape"
   ]
  },
  {
   "cell_type": "markdown",
   "id": "3186a11a",
   "metadata": {},
   "source": [
    "### below code is useless just for practice"
   ]
  },
  {
   "cell_type": "code",
   "execution_count": 31,
   "id": "01065748",
   "metadata": {},
   "outputs": [
    {
     "data": {
      "text/plain": [
       "dtype('float64')"
      ]
     },
     "execution_count": 31,
     "metadata": {},
     "output_type": "execute_result"
    }
   ],
   "source": [
    "s = train_data.iloc[0,:-1].to_numpy(dtype=float)\n",
    "s\n",
    "ss = np.expand_dims(s, axis=1)\n",
    "ss.dtype"
   ]
  },
  {
   "cell_type": "code",
   "execution_count": 32,
   "id": "c599fdd6",
   "metadata": {},
   "outputs": [],
   "source": [
    "from torchvision import transforms\n",
    "\n",
    "trans = transforms.Compose([\n",
    "                            transforms.ToTensor(),\n",
    "                           ])\n",
    "ss = trans(ss)"
   ]
  },
  {
   "cell_type": "code",
   "execution_count": 33,
   "id": "c9c54063",
   "metadata": {},
   "outputs": [
    {
     "data": {
      "text/plain": [
       "torch.float32"
      ]
     },
     "execution_count": 33,
     "metadata": {},
     "output_type": "execute_result"
    }
   ],
   "source": [
    "ss = ss.float()\n",
    "ss.dtype"
   ]
  },
  {
   "cell_type": "code",
   "execution_count": 34,
   "id": "a268c641",
   "metadata": {},
   "outputs": [
    {
     "data": {
      "text/plain": [
       "dtype('float64')"
      ]
     },
     "execution_count": 34,
     "metadata": {},
     "output_type": "execute_result"
    }
   ],
   "source": [
    "d = train_data.iloc[0,-1]\n",
    "d = np.float64(d)\n",
    "d.dtype"
   ]
  },
  {
   "cell_type": "code",
   "execution_count": 35,
   "id": "fa9e9e97",
   "metadata": {},
   "outputs": [
    {
     "ename": "NameError",
     "evalue": "name 'np_train_data' is not defined",
     "output_type": "error",
     "traceback": [
      "\u001b[0;31m---------------------------------------------------------------------------\u001b[0m",
      "\u001b[0;31mNameError\u001b[0m                                 Traceback (most recent call last)",
      "\u001b[0;32m<ipython-input-35-d65f6d91873a>\u001b[0m in \u001b[0;36m<module>\u001b[0;34m\u001b[0m\n\u001b[0;32m----> 1\u001b[0;31m \u001b[0mtrain_data\u001b[0m \u001b[0;34m=\u001b[0m \u001b[0mtorch\u001b[0m\u001b[0;34m.\u001b[0m\u001b[0mfrom_numpy\u001b[0m\u001b[0;34m(\u001b[0m\u001b[0mnp_train_data\u001b[0m\u001b[0;34m)\u001b[0m\u001b[0;34m.\u001b[0m\u001b[0mfloat\u001b[0m\u001b[0;34m(\u001b[0m\u001b[0;34m)\u001b[0m\u001b[0;34m\u001b[0m\u001b[0;34m\u001b[0m\u001b[0m\n\u001b[0m",
      "\u001b[0;31mNameError\u001b[0m: name 'np_train_data' is not defined"
     ]
    }
   ],
   "source": [
    "train_data = torch.from_numpy(np_train_data).float()"
   ]
  },
  {
   "cell_type": "code",
   "execution_count": null,
   "id": "159d14cf",
   "metadata": {},
   "outputs": [],
   "source": [
    "import torch"
   ]
  },
  {
   "cell_type": "code",
   "execution_count": null,
   "id": "7e2c02d9",
   "metadata": {},
   "outputs": [],
   "source": [
    "ss.type(torch.LongTensor).dtype"
   ]
  },
  {
   "cell_type": "code",
   "execution_count": 48,
   "id": "161184cb",
   "metadata": {},
   "outputs": [],
   "source": [
    "tmp = pd.read_csv(f\"./data/EPL/19_20.csv\")"
   ]
  },
  {
   "cell_type": "code",
   "execution_count": 49,
   "id": "86540fa3",
   "metadata": {},
   "outputs": [
    {
     "data": {
      "text/plain": [
       "(380, 106)"
      ]
     },
     "execution_count": 49,
     "metadata": {},
     "output_type": "execute_result"
    }
   ],
   "source": [
    "tmp.shape"
   ]
  },
  {
   "cell_type": "code",
   "execution_count": 50,
   "id": "e93c45f5",
   "metadata": {},
   "outputs": [
    {
     "data": {
      "text/plain": [
       "array(['Div', 'Date', 'Time', 'HomeTeam', 'AwayTeam', 'FTHG', 'FTAG',\n",
       "       'FTR', 'HTHG', 'HTAG', 'HTR', 'Referee', 'HS', 'AS', 'HST', 'AST',\n",
       "       'HF', 'AF', 'HC', 'AC', 'HY', 'AY', 'HR', 'AR', 'B365H', 'B365D',\n",
       "       'B365A', 'BWH', 'BWD', 'BWA', 'IWH', 'IWD', 'IWA', 'PSH', 'PSD',\n",
       "       'PSA', 'WHH', 'WHD', 'WHA', 'VCH', 'VCD', 'VCA', 'MaxH', 'MaxD',\n",
       "       'MaxA', 'AvgH', 'AvgD', 'AvgA', 'B365>2.5', 'B365<2.5', 'P>2.5',\n",
       "       'P<2.5', 'Max>2.5', 'Max<2.5', 'Avg>2.5', 'Avg<2.5', 'AHh',\n",
       "       'B365AHH', 'B365AHA', 'PAHH', 'PAHA', 'MaxAHH', 'MaxAHA', 'AvgAHH',\n",
       "       'AvgAHA', 'B365CH', 'B365CD', 'B365CA', 'BWCH', 'BWCD', 'BWCA',\n",
       "       'IWCH', 'IWCD', 'IWCA', 'PSCH', 'PSCD', 'PSCA', 'WHCH', 'WHCD',\n",
       "       'WHCA', 'VCCH', 'VCCD', 'VCCA', 'MaxCH', 'MaxCD', 'MaxCA', 'AvgCH',\n",
       "       'AvgCD', 'AvgCA', 'B365C>2.5', 'B365C<2.5', 'PC>2.5', 'PC<2.5',\n",
       "       'MaxC>2.5', 'MaxC<2.5', 'AvgC>2.5', 'AvgC<2.5', 'AHCh', 'B365CAHH',\n",
       "       'B365CAHA', 'PCAHH', 'PCAHA', 'MaxCAHH', 'MaxCAHA', 'AvgCAHH',\n",
       "       'AvgCAHA'], dtype=object)"
      ]
     },
     "execution_count": 50,
     "metadata": {},
     "output_type": "execute_result"
    }
   ],
   "source": [
    "tmp.columns.values"
   ]
  },
  {
   "cell_type": "code",
   "execution_count": null,
   "id": "e0eef284",
   "metadata": {},
   "outputs": [],
   "source": []
  }
 ],
 "metadata": {
  "kernelspec": {
   "display_name": "Python 3",
   "language": "python",
   "name": "python3"
  },
  "language_info": {
   "codemirror_mode": {
    "name": "ipython",
    "version": 3
   },
   "file_extension": ".py",
   "mimetype": "text/x-python",
   "name": "python",
   "nbconvert_exporter": "python",
   "pygments_lexer": "ipython3",
   "version": "3.9.6"
  }
 },
 "nbformat": 4,
 "nbformat_minor": 5
}
