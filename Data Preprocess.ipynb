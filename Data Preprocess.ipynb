{
 "cells": [
  {
   "cell_type": "code",
   "execution_count": 27,
   "id": "ebb55ceb",
   "metadata": {},
   "outputs": [],
   "source": [
    "import os\n",
    "import numpy as np\n",
    "import pandas as pd\n",
    "\n",
    "from torch.utils.data import random_split\n",
    "from sklearn.preprocessing import LabelEncoder\n",
    "import torch\n",
    "from torch.utils.data import Dataset"
   ]
  },
  {
   "cell_type": "code",
   "execution_count": 28,
   "id": "6dc92bf4",
   "metadata": {},
   "outputs": [
    {
     "name": "stdout",
     "output_type": "stream",
     "text": [
      "21/22 season ok\n",
      "20/21 season ok\n",
      "19/20 season ok\n",
      "18/19 season ok\n",
      "17/18 season ok\n",
      "16/17 season ok\n",
      "15/16 season ok\n",
      "14/15 season ok\n",
      "13/14 season ok\n",
      "12/13 season ok\n"
     ]
    }
   ],
   "source": [
    "data = []\n",
    "col = [\"Date\",\"HomeTeam\",\"AwayTeam\",\"FTR\",\"B365H\",\"B365D\",\n",
    "      \"B365A\",\"BWH\",\"BWD\",\"BWA\",\"IWH\",\"IWD\",\"IWA\",\"PSH\",\"PSD\",\"PSA\",\"WHH\",\"WHD\",\"WHA\",\n",
    "      \"VCH\",\"VCD\",\"VCA\"]\n",
    "for i in range(21,11,-1):\n",
    "    temp = pd.read_csv(f\"./data/EPL/{i}_{i+1}.csv\")\n",
    "    temp = temp[col]\n",
    "    temp[\"Season\"] = f\"{i}/{i+1}\"\n",
    "    print(f\"{i}/{i+1} season ok\")\n",
    "    data.append(temp)"
   ]
  },
  {
   "cell_type": "code",
   "execution_count": 29,
   "id": "b1d2766e",
   "metadata": {},
   "outputs": [
    {
     "name": "stdout",
     "output_type": "stream",
     "text": [
      "data length : 10\n",
      "data[0].shape = (110, 23)\n",
      "data[1].shape = (380, 23)\n",
      "data[2].shape = (380, 23)\n",
      "data[3].shape = (380, 23)\n",
      "data[4].shape = (380, 23)\n",
      "data[5].shape = (380, 23)\n",
      "data[6].shape = (380, 23)\n",
      "data[7].shape = (381, 23)\n",
      "data[8].shape = (380, 23)\n",
      "data[9].shape = (380, 23)\n"
     ]
    }
   ],
   "source": [
    "print(\"data length : \" + str(len(data)))\n",
    "for i in range(len(data)) :\n",
    "    print(f\"data[{i}].shape = {data[i].shape}\")"
   ]
  },
  {
   "cell_type": "code",
   "execution_count": 32,
   "id": "106031eb",
   "metadata": {},
   "outputs": [
    {
     "name": "stdout",
     "output_type": "stream",
     "text": [
      "total shape = (3531, 23)\n"
     ]
    }
   ],
   "source": [
    "total = pd.concat(data)\n",
    "print(f\"total shape = {total.shape}\")"
   ]
  },
  {
   "cell_type": "code",
   "execution_count": 33,
   "id": "e6d9d498",
   "metadata": {},
   "outputs": [
    {
     "data": {
      "text/html": [
       "<div>\n",
       "<style scoped>\n",
       "    .dataframe tbody tr th:only-of-type {\n",
       "        vertical-align: middle;\n",
       "    }\n",
       "\n",
       "    .dataframe tbody tr th {\n",
       "        vertical-align: top;\n",
       "    }\n",
       "\n",
       "    .dataframe thead th {\n",
       "        text-align: right;\n",
       "    }\n",
       "</style>\n",
       "<table border=\"1\" class=\"dataframe\">\n",
       "  <thead>\n",
       "    <tr style=\"text-align: right;\">\n",
       "      <th></th>\n",
       "      <th>Date</th>\n",
       "      <th>HomeTeam</th>\n",
       "      <th>AwayTeam</th>\n",
       "      <th>FTR</th>\n",
       "      <th>B365H</th>\n",
       "      <th>B365D</th>\n",
       "      <th>B365A</th>\n",
       "      <th>BWH</th>\n",
       "      <th>BWD</th>\n",
       "      <th>BWA</th>\n",
       "      <th>...</th>\n",
       "      <th>PSH</th>\n",
       "      <th>PSD</th>\n",
       "      <th>PSA</th>\n",
       "      <th>WHH</th>\n",
       "      <th>WHD</th>\n",
       "      <th>WHA</th>\n",
       "      <th>VCH</th>\n",
       "      <th>VCD</th>\n",
       "      <th>VCA</th>\n",
       "      <th>Season</th>\n",
       "    </tr>\n",
       "  </thead>\n",
       "  <tbody>\n",
       "    <tr>\n",
       "      <th>0</th>\n",
       "      <td>13/08/2021</td>\n",
       "      <td>Brentford</td>\n",
       "      <td>Arsenal</td>\n",
       "      <td>H</td>\n",
       "      <td>4.00</td>\n",
       "      <td>3.40</td>\n",
       "      <td>1.95</td>\n",
       "      <td>4.00</td>\n",
       "      <td>3.50</td>\n",
       "      <td>1.95</td>\n",
       "      <td>...</td>\n",
       "      <td>4.05</td>\n",
       "      <td>3.46</td>\n",
       "      <td>2.05</td>\n",
       "      <td>4.00</td>\n",
       "      <td>3.40</td>\n",
       "      <td>1.90</td>\n",
       "      <td>4.10</td>\n",
       "      <td>3.40</td>\n",
       "      <td>2.00</td>\n",
       "      <td>21/22</td>\n",
       "    </tr>\n",
       "    <tr>\n",
       "      <th>1</th>\n",
       "      <td>14/08/2021</td>\n",
       "      <td>Man United</td>\n",
       "      <td>Leeds</td>\n",
       "      <td>H</td>\n",
       "      <td>1.53</td>\n",
       "      <td>4.50</td>\n",
       "      <td>5.75</td>\n",
       "      <td>1.53</td>\n",
       "      <td>4.50</td>\n",
       "      <td>5.75</td>\n",
       "      <td>...</td>\n",
       "      <td>1.56</td>\n",
       "      <td>4.57</td>\n",
       "      <td>5.96</td>\n",
       "      <td>1.52</td>\n",
       "      <td>4.33</td>\n",
       "      <td>5.80</td>\n",
       "      <td>1.55</td>\n",
       "      <td>4.40</td>\n",
       "      <td>6.00</td>\n",
       "      <td>21/22</td>\n",
       "    </tr>\n",
       "    <tr>\n",
       "      <th>2</th>\n",
       "      <td>14/08/2021</td>\n",
       "      <td>Burnley</td>\n",
       "      <td>Brighton</td>\n",
       "      <td>A</td>\n",
       "      <td>3.10</td>\n",
       "      <td>3.10</td>\n",
       "      <td>2.45</td>\n",
       "      <td>3.20</td>\n",
       "      <td>3.10</td>\n",
       "      <td>2.40</td>\n",
       "      <td>...</td>\n",
       "      <td>3.30</td>\n",
       "      <td>3.12</td>\n",
       "      <td>2.51</td>\n",
       "      <td>3.20</td>\n",
       "      <td>3.00</td>\n",
       "      <td>2.45</td>\n",
       "      <td>3.13</td>\n",
       "      <td>3.10</td>\n",
       "      <td>2.45</td>\n",
       "      <td>21/22</td>\n",
       "    </tr>\n",
       "    <tr>\n",
       "      <th>3</th>\n",
       "      <td>14/08/2021</td>\n",
       "      <td>Chelsea</td>\n",
       "      <td>Crystal Palace</td>\n",
       "      <td>H</td>\n",
       "      <td>1.25</td>\n",
       "      <td>5.75</td>\n",
       "      <td>13.00</td>\n",
       "      <td>1.28</td>\n",
       "      <td>5.75</td>\n",
       "      <td>10.50</td>\n",
       "      <td>...</td>\n",
       "      <td>1.26</td>\n",
       "      <td>6.24</td>\n",
       "      <td>12.74</td>\n",
       "      <td>1.25</td>\n",
       "      <td>5.50</td>\n",
       "      <td>13.00</td>\n",
       "      <td>1.25</td>\n",
       "      <td>5.75</td>\n",
       "      <td>13.00</td>\n",
       "      <td>21/22</td>\n",
       "    </tr>\n",
       "    <tr>\n",
       "      <th>4</th>\n",
       "      <td>14/08/2021</td>\n",
       "      <td>Everton</td>\n",
       "      <td>Southampton</td>\n",
       "      <td>H</td>\n",
       "      <td>1.90</td>\n",
       "      <td>3.50</td>\n",
       "      <td>4.00</td>\n",
       "      <td>1.95</td>\n",
       "      <td>3.50</td>\n",
       "      <td>3.90</td>\n",
       "      <td>...</td>\n",
       "      <td>2.01</td>\n",
       "      <td>3.56</td>\n",
       "      <td>4.10</td>\n",
       "      <td>1.95</td>\n",
       "      <td>3.40</td>\n",
       "      <td>4.00</td>\n",
       "      <td>1.95</td>\n",
       "      <td>3.40</td>\n",
       "      <td>4.10</td>\n",
       "      <td>21/22</td>\n",
       "    </tr>\n",
       "  </tbody>\n",
       "</table>\n",
       "<p>5 rows × 23 columns</p>\n",
       "</div>"
      ],
      "text/plain": [
       "         Date    HomeTeam        AwayTeam FTR  B365H  B365D  B365A   BWH  \\\n",
       "0  13/08/2021   Brentford         Arsenal   H   4.00   3.40   1.95  4.00   \n",
       "1  14/08/2021  Man United           Leeds   H   1.53   4.50   5.75  1.53   \n",
       "2  14/08/2021     Burnley        Brighton   A   3.10   3.10   2.45  3.20   \n",
       "3  14/08/2021     Chelsea  Crystal Palace   H   1.25   5.75  13.00  1.28   \n",
       "4  14/08/2021     Everton     Southampton   H   1.90   3.50   4.00  1.95   \n",
       "\n",
       "    BWD    BWA  ...   PSH   PSD    PSA   WHH   WHD    WHA   VCH   VCD    VCA  \\\n",
       "0  3.50   1.95  ...  4.05  3.46   2.05  4.00  3.40   1.90  4.10  3.40   2.00   \n",
       "1  4.50   5.75  ...  1.56  4.57   5.96  1.52  4.33   5.80  1.55  4.40   6.00   \n",
       "2  3.10   2.40  ...  3.30  3.12   2.51  3.20  3.00   2.45  3.13  3.10   2.45   \n",
       "3  5.75  10.50  ...  1.26  6.24  12.74  1.25  5.50  13.00  1.25  5.75  13.00   \n",
       "4  3.50   3.90  ...  2.01  3.56   4.10  1.95  3.40   4.00  1.95  3.40   4.10   \n",
       "\n",
       "   Season  \n",
       "0   21/22  \n",
       "1   21/22  \n",
       "2   21/22  \n",
       "3   21/22  \n",
       "4   21/22  \n",
       "\n",
       "[5 rows x 23 columns]"
      ]
     },
     "execution_count": 33,
     "metadata": {},
     "output_type": "execute_result"
    }
   ],
   "source": [
    "total.head()"
   ]
  },
  {
   "cell_type": "code",
   "execution_count": 67,
   "id": "c7ccfd0e",
   "metadata": {},
   "outputs": [
    {
     "name": "stdout",
     "output_type": "stream",
     "text": [
      "object\n"
     ]
    }
   ],
   "source": [
    "team_name = total[\"HomeTeam\"].unique()\n"
   ]
  },
  {
   "cell_type": "code",
   "execution_count": 68,
   "id": "9fcf0658",
   "metadata": {},
   "outputs": [],
   "source": [
    "from sklearn.preprocessing import LabelEncoder\n",
    "\n",
    "le = LabelEncoder()"
   ]
  },
  {
   "cell_type": "code",
   "execution_count": 72,
   "id": "2726f63e",
   "metadata": {},
   "outputs": [
    {
     "name": "stdout",
     "output_type": "stream",
     "text": [
      "team name : ['Brentford' 'Man United' 'Burnley' 'Chelsea' 'Everton' 'Leicester'\n",
      " 'Watford' 'Norwich' 'Newcastle' 'Tottenham' 'Liverpool' 'Aston Villa'\n",
      " 'Crystal Palace' 'Leeds' 'Man City' 'Brighton' 'Southampton' 'Wolves'\n",
      " 'Arsenal' 'West Ham' 'Fulham' 'West Brom' 'Sheffield United'\n",
      " 'Bournemouth' 'Huddersfield' 'Cardiff' 'Stoke' 'Swansea' 'Hull'\n",
      " 'Middlesbrough' 'Sunderland' 'QPR' nan 'Reading' 'Wigan']\n",
      "team_label : [ 3 17  5  7  9 14 29 20 19 28 15  1  8 13 16  4 24 33  0 31 10 30 23  2\n",
      " 11  6 25 27 12 18 26 21 34 22 32]\n"
     ]
    }
   ],
   "source": [
    "le.fit(team_name)\n",
    "team_label = le.transform(team_name)\n",
    "print(f\"team name : {team_name}\")\n",
    "print(f\"team_label : {team_label}\")"
   ]
  },
  {
   "cell_type": "code",
   "execution_count": 73,
   "id": "88eb6567",
   "metadata": {},
   "outputs": [],
   "source": [
    "dic = {}\n",
    "for i in range(len(team_label)) :\n",
    "    dic[team_name[i]] = team_label[i]"
   ]
  },
  {
   "cell_type": "code",
   "execution_count": 75,
   "id": "8ce7a69f",
   "metadata": {},
   "outputs": [
    {
     "data": {
      "text/plain": [
       "{'Brentford': 3,\n",
       " 'Man United': 17,\n",
       " 'Burnley': 5,\n",
       " 'Chelsea': 7,\n",
       " 'Everton': 9,\n",
       " 'Leicester': 14,\n",
       " 'Watford': 29,\n",
       " 'Norwich': 20,\n",
       " 'Newcastle': 19,\n",
       " 'Tottenham': 28,\n",
       " 'Liverpool': 15,\n",
       " 'Aston Villa': 1,\n",
       " 'Crystal Palace': 8,\n",
       " 'Leeds': 13,\n",
       " 'Man City': 16,\n",
       " 'Brighton': 4,\n",
       " 'Southampton': 24,\n",
       " 'Wolves': 33,\n",
       " 'Arsenal': 0,\n",
       " 'West Ham': 31,\n",
       " 'Fulham': 10,\n",
       " 'West Brom': 30,\n",
       " 'Sheffield United': 23,\n",
       " 'Bournemouth': 2,\n",
       " 'Huddersfield': 11,\n",
       " 'Cardiff': 6,\n",
       " 'Stoke': 25,\n",
       " 'Swansea': 27,\n",
       " 'Hull': 12,\n",
       " 'Middlesbrough': 18,\n",
       " 'Sunderland': 26,\n",
       " 'QPR': 21,\n",
       " nan: 34,\n",
       " 'Reading': 22,\n",
       " 'Wigan': 32}"
      ]
     },
     "execution_count": 75,
     "metadata": {},
     "output_type": "execute_result"
    }
   ],
   "source": [
    "dic"
   ]
  },
  {
   "cell_type": "code",
   "execution_count": null,
   "id": "1f3d949a",
   "metadata": {},
   "outputs": [],
   "source": []
  }
 ],
 "metadata": {
  "kernelspec": {
   "display_name": "Python 3",
   "language": "python",
   "name": "python3"
  },
  "language_info": {
   "codemirror_mode": {
    "name": "ipython",
    "version": 3
   },
   "file_extension": ".py",
   "mimetype": "text/x-python",
   "name": "python",
   "nbconvert_exporter": "python",
   "pygments_lexer": "ipython3",
   "version": "3.9.6"
  }
 },
 "nbformat": 4,
 "nbformat_minor": 5
}
